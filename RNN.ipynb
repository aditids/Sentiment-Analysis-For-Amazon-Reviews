{
  "cells": [
    {
      "cell_type": "code",
      "execution_count": null,
      "id": "e9e7855c",
      "metadata": {
        "id": "e9e7855c"
      },
      "outputs": [],
      "source": [
        "import numpy as np\n",
        "import pandas as pd\n",
        "import seaborn as sns\n",
        "import bz2\n",
        "import re\n",
        "import os\n",
        "import gc\n",
        "import matplotlib.pyplot as plt"
      ]
    },
    {
      "cell_type": "code",
      "execution_count": null,
      "id": "a18f3bea",
      "metadata": {
        "id": "a18f3bea"
      },
      "outputs": [],
      "source": [
        "train_file = bz2.BZ2File('train.ft.txt.bz2')\n",
        "test_file = bz2.BZ2File('test.ft.txt.bz2')"
      ]
    },
    {
      "cell_type": "code",
      "execution_count": null,
      "id": "f158b335",
      "metadata": {
        "id": "f158b335"
      },
      "outputs": [],
      "source": [
        "def load_extract(file):\n",
        "    texts, labels = [], [] \n",
        "    for line in file:\n",
        "        x = line.decode('utf-8')  # decode binary to string\n",
        "        labels.append(int(x[9]) - 1)  # extract labels\n",
        "        texts.append(x[10:].strip())  # extract texts\n",
        "    print('Done !')\n",
        "    return np.array(labels), texts"
      ]
    },
    {
      "cell_type": "code",
      "execution_count": null,
      "id": "42313aa2",
      "metadata": {
        "id": "42313aa2",
        "outputId": "4d439324-c953-4e40-f1c8-167acec843b3"
      },
      "outputs": [
        {
          "name": "stdout",
          "output_type": "stream",
          "text": [
            "Done !\n",
            "Done !\n"
          ]
        }
      ],
      "source": [
        "train_labels, train_texts = load_extract(train_file)\n",
        "test_labels, test_texts = load_extract(test_file)"
      ]
    },
    {
      "cell_type": "code",
      "execution_count": null,
      "id": "e57cbd19",
      "metadata": {
        "id": "e57cbd19"
      },
      "outputs": [],
      "source": [
        "train_data = pd.DataFrame(data=train_labels, columns=['label'])\n",
        "train_data['text'] = train_texts"
      ]
    },
    {
      "cell_type": "code",
      "execution_count": null,
      "id": "a29cfae5",
      "metadata": {
        "id": "a29cfae5",
        "outputId": "4a78dc35-8e25-45ba-bd6f-7c98bf2d2814"
      },
      "outputs": [
        {
          "data": {
            "text/html": [
              "<div>\n",
              "<style scoped>\n",
              "    .dataframe tbody tr th:only-of-type {\n",
              "        vertical-align: middle;\n",
              "    }\n",
              "\n",
              "    .dataframe tbody tr th {\n",
              "        vertical-align: top;\n",
              "    }\n",
              "\n",
              "    .dataframe thead th {\n",
              "        text-align: right;\n",
              "    }\n",
              "</style>\n",
              "<table border=\"1\" class=\"dataframe\">\n",
              "  <thead>\n",
              "    <tr style=\"text-align: right;\">\n",
              "      <th></th>\n",
              "      <th>label</th>\n",
              "      <th>text</th>\n",
              "    </tr>\n",
              "  </thead>\n",
              "  <tbody>\n",
              "    <tr>\n",
              "      <th>0</th>\n",
              "      <td>1</td>\n",
              "      <td>Stuning even for the non-gamer: This sound tra...</td>\n",
              "    </tr>\n",
              "    <tr>\n",
              "      <th>1</th>\n",
              "      <td>1</td>\n",
              "      <td>The best soundtrack ever to anything.: I'm rea...</td>\n",
              "    </tr>\n",
              "    <tr>\n",
              "      <th>2</th>\n",
              "      <td>1</td>\n",
              "      <td>Amazing!: This soundtrack is my favorite music...</td>\n",
              "    </tr>\n",
              "    <tr>\n",
              "      <th>3</th>\n",
              "      <td>1</td>\n",
              "      <td>Excellent Soundtrack: I truly like this soundt...</td>\n",
              "    </tr>\n",
              "    <tr>\n",
              "      <th>4</th>\n",
              "      <td>1</td>\n",
              "      <td>Remember, Pull Your Jaw Off The Floor After He...</td>\n",
              "    </tr>\n",
              "  </tbody>\n",
              "</table>\n",
              "</div>"
            ],
            "text/plain": [
              "   label                                               text\n",
              "0      1  Stuning even for the non-gamer: This sound tra...\n",
              "1      1  The best soundtrack ever to anything.: I'm rea...\n",
              "2      1  Amazing!: This soundtrack is my favorite music...\n",
              "3      1  Excellent Soundtrack: I truly like this soundt...\n",
              "4      1  Remember, Pull Your Jaw Off The Floor After He..."
            ]
          },
          "execution_count": 9,
          "metadata": {},
          "output_type": "execute_result"
        }
      ],
      "source": [
        "train_data.head()"
      ]
    },
    {
      "cell_type": "code",
      "execution_count": null,
      "id": "dd4e3eeb",
      "metadata": {
        "id": "dd4e3eeb"
      },
      "outputs": [],
      "source": [
        "\n",
        "test_data = pd.DataFrame(data=test_labels, columns=['label'])\n",
        "test_data['text'] = test_texts"
      ]
    },
    {
      "cell_type": "code",
      "execution_count": null,
      "id": "8ee4d50b",
      "metadata": {
        "id": "8ee4d50b",
        "outputId": "82840592-76ee-4cb7-c80e-aa1050c274c9"
      },
      "outputs": [
        {
          "name": "stderr",
          "output_type": "stream",
          "text": [
            "2023-04-15 13:50:39.844606: W tensorflow/stream_executor/platform/default/dso_loader.cc:64] Could not load dynamic library 'libcudart.so.11.0'; dlerror: libcudart.so.11.0: cannot open shared object file: No such file or directory; LD_LIBRARY_PATH: /N/soft/rhel7/java/1.8.0_131/jre/lib/amd64/server/:/N/soft/rhel7/curl/intel/7.54.0/lib:/N/soft/rhel7/python/3.9.8/lib:/N/soft/rhel7/openmpi/gnu/4.0.4/lib:/N/soft/rhel7/libpng/1.2.57/lib:/N/soft/rhel7/gcc/9.3.0/lib64:/N/soft/rhel7/gcc/9.3.0/lib:/N/soft/rhel7/intel/19.5/compilers_and_libraries_2019.5.281/linux/compiler/lib/intel64:/N/soft/rhel7/intel/19.5/compilers_and_libraries_2019.5.281/linux/ipp/lib/intel64:/N/soft/rhel7/intel/19.5/compilers_and_libraries_2019.5.281/linux/compiler/lib/intel64_lin:/N/soft/rhel7/intel/19.5/compilers_and_libraries_2019.5.281/linux/mkl/lib/intel64_lin:/N/soft/rhel7/intel/19.5/compilers_and_libraries_2019.5.281/linux/tbb/lib/intel64/gcc4.7:/N/soft/rhel7/intel/19.5/debugger_2019/iga/lib:/N/soft/rhel7/intel/19.5/debugger_2019/libipt/intel64/lib:/N/soft/rhel7/intel/19.5/compilers_and_libraries_2019.5.281/linux/daal/lib/intel64_lin:/opt/thinlinc/lib64:/opt/thinlinc/lib\n",
            "2023-04-15 13:50:39.844667: I tensorflow/stream_executor/cuda/cudart_stub.cc:29] Ignore above cudart dlerror if you do not have a GPU set up on your machine.\n"
          ]
        }
      ],
      "source": [
        "import tensorflow as tf\n",
        "from tensorflow.keras.preprocessing.text import Tokenizer\n",
        "from tensorflow.keras.preprocessing.sequence import pad_sequences\n",
        "from tensorflow.keras.layers import Embedding, LSTM, Dense, Dropout\n",
        "from tensorflow.keras.models import Sequential"
      ]
    },
    {
      "cell_type": "code",
      "execution_count": null,
      "id": "90bd1ab8",
      "metadata": {
        "id": "90bd1ab8"
      },
      "outputs": [],
      "source": [
        "sample_train = train_data.sample(n=1000000, random_state=2)\n"
      ]
    },
    {
      "cell_type": "code",
      "execution_count": null,
      "id": "bc12121b",
      "metadata": {
        "id": "bc12121b",
        "outputId": "96dd9484-b9f5-4698-c645-e468abc6b99a"
      },
      "outputs": [
        {
          "ename": "ValueError",
          "evalue": "Cannot take a larger sample than population when 'replace=False'",
          "output_type": "error",
          "traceback": [
            "\u001b[0;31m---------------------------------------------------------------------------\u001b[0m",
            "\u001b[0;31mValueError\u001b[0m                                Traceback (most recent call last)",
            "Input \u001b[0;32mIn [57]\u001b[0m, in \u001b[0;36m<cell line: 1>\u001b[0;34m()\u001b[0m\n\u001b[0;32m----> 1\u001b[0m sample_test \u001b[38;5;241m=\u001b[39m \u001b[43mtest_data\u001b[49m\u001b[38;5;241;43m.\u001b[39;49m\u001b[43msample\u001b[49m\u001b[43m(\u001b[49m\u001b[43mn\u001b[49m\u001b[38;5;241;43m=\u001b[39;49m\u001b[38;5;241;43m1000000\u001b[39;49m\u001b[43m,\u001b[49m\u001b[43m \u001b[49m\u001b[43mrandom_state\u001b[49m\u001b[38;5;241;43m=\u001b[39;49m\u001b[38;5;241;43m2\u001b[39;49m\u001b[43m)\u001b[49m\n",
            "File \u001b[0;32m/N/soft/rhel7/python/3.9.8/lib/python3.9/site-packages/pandas/core/generic.py:5454\u001b[0m, in \u001b[0;36mNDFrame.sample\u001b[0;34m(self, n, frac, replace, weights, random_state, axis, ignore_index)\u001b[0m\n\u001b[1;32m   5451\u001b[0m \u001b[38;5;28;01mif\u001b[39;00m weights \u001b[38;5;129;01mis\u001b[39;00m \u001b[38;5;129;01mnot\u001b[39;00m \u001b[38;5;28;01mNone\u001b[39;00m:\n\u001b[1;32m   5452\u001b[0m     weights \u001b[38;5;241m=\u001b[39m sample\u001b[38;5;241m.\u001b[39mpreprocess_weights(\u001b[38;5;28mself\u001b[39m, weights, axis)\n\u001b[0;32m-> 5454\u001b[0m sampled_indices \u001b[38;5;241m=\u001b[39m \u001b[43msample\u001b[49m\u001b[38;5;241;43m.\u001b[39;49m\u001b[43msample\u001b[49m\u001b[43m(\u001b[49m\u001b[43mobj_len\u001b[49m\u001b[43m,\u001b[49m\u001b[43m \u001b[49m\u001b[43msize\u001b[49m\u001b[43m,\u001b[49m\u001b[43m \u001b[49m\u001b[43mreplace\u001b[49m\u001b[43m,\u001b[49m\u001b[43m \u001b[49m\u001b[43mweights\u001b[49m\u001b[43m,\u001b[49m\u001b[43m \u001b[49m\u001b[43mrs\u001b[49m\u001b[43m)\u001b[49m\n\u001b[1;32m   5455\u001b[0m result \u001b[38;5;241m=\u001b[39m \u001b[38;5;28mself\u001b[39m\u001b[38;5;241m.\u001b[39mtake(sampled_indices, axis\u001b[38;5;241m=\u001b[39maxis)\n\u001b[1;32m   5457\u001b[0m \u001b[38;5;28;01mif\u001b[39;00m ignore_index:\n",
            "File \u001b[0;32m/N/soft/rhel7/python/3.9.8/lib/python3.9/site-packages/pandas/core/sample.py:150\u001b[0m, in \u001b[0;36msample\u001b[0;34m(obj_len, size, replace, weights, random_state)\u001b[0m\n\u001b[1;32m    147\u001b[0m     \u001b[38;5;28;01melse\u001b[39;00m:\n\u001b[1;32m    148\u001b[0m         \u001b[38;5;28;01mraise\u001b[39;00m \u001b[38;5;167;01mValueError\u001b[39;00m(\u001b[38;5;124m\"\u001b[39m\u001b[38;5;124mInvalid weights: weights sum to zero\u001b[39m\u001b[38;5;124m\"\u001b[39m)\n\u001b[0;32m--> 150\u001b[0m \u001b[38;5;28;01mreturn\u001b[39;00m \u001b[43mrandom_state\u001b[49m\u001b[38;5;241;43m.\u001b[39;49m\u001b[43mchoice\u001b[49m\u001b[43m(\u001b[49m\u001b[43mobj_len\u001b[49m\u001b[43m,\u001b[49m\u001b[43m \u001b[49m\u001b[43msize\u001b[49m\u001b[38;5;241;43m=\u001b[39;49m\u001b[43msize\u001b[49m\u001b[43m,\u001b[49m\u001b[43m \u001b[49m\u001b[43mreplace\u001b[49m\u001b[38;5;241;43m=\u001b[39;49m\u001b[43mreplace\u001b[49m\u001b[43m,\u001b[49m\u001b[43m \u001b[49m\u001b[43mp\u001b[49m\u001b[38;5;241;43m=\u001b[39;49m\u001b[43mweights\u001b[49m\u001b[43m)\u001b[49m\u001b[38;5;241m.\u001b[39mastype(\n\u001b[1;32m    151\u001b[0m     np\u001b[38;5;241m.\u001b[39mintp, copy\u001b[38;5;241m=\u001b[39m\u001b[38;5;28;01mFalse\u001b[39;00m\n\u001b[1;32m    152\u001b[0m )\n",
            "File \u001b[0;32mmtrand.pyx:965\u001b[0m, in \u001b[0;36mnumpy.random.mtrand.RandomState.choice\u001b[0;34m()\u001b[0m\n",
            "\u001b[0;31mValueError\u001b[0m: Cannot take a larger sample than population when 'replace=False'"
          ]
        }
      ],
      "source": [
        "sample_test = test_data.sample(n=1000000, random_state=2)"
      ]
    },
    {
      "cell_type": "code",
      "execution_count": null,
      "id": "f11808a7",
      "metadata": {
        "id": "f11808a7",
        "outputId": "81734250-1e85-493f-8691-265791e90abf"
      },
      "outputs": [
        {
          "data": {
            "text/html": [
              "<div>\n",
              "<style scoped>\n",
              "    .dataframe tbody tr th:only-of-type {\n",
              "        vertical-align: middle;\n",
              "    }\n",
              "\n",
              "    .dataframe tbody tr th {\n",
              "        vertical-align: top;\n",
              "    }\n",
              "\n",
              "    .dataframe thead th {\n",
              "        text-align: right;\n",
              "    }\n",
              "</style>\n",
              "<table border=\"1\" class=\"dataframe\">\n",
              "  <thead>\n",
              "    <tr style=\"text-align: right;\">\n",
              "      <th></th>\n",
              "      <th>label</th>\n",
              "      <th>text</th>\n",
              "    </tr>\n",
              "  </thead>\n",
              "  <tbody>\n",
              "    <tr>\n",
              "      <th>3281328</th>\n",
              "      <td>1</td>\n",
              "      <td>Excellent home help for parents: Volume 1 of D...</td>\n",
              "    </tr>\n",
              "    <tr>\n",
              "      <th>2662721</th>\n",
              "      <td>0</td>\n",
              "      <td>Stay far, far away.: I made it through about 6...</td>\n",
              "    </tr>\n",
              "    <tr>\n",
              "      <th>1600544</th>\n",
              "      <td>0</td>\n",
              "      <td>Lost Woods: Lost WoodsI didn't really understa...</td>\n",
              "    </tr>\n",
              "    <tr>\n",
              "      <th>815246</th>\n",
              "      <td>0</td>\n",
              "      <td>Renaissance -12, Women's brown suead shoes: Re...</td>\n",
              "    </tr>\n",
              "    <tr>\n",
              "      <th>1254178</th>\n",
              "      <td>1</td>\n",
              "      <td>Best Novel I've Read This Year: Intrigued by t...</td>\n",
              "    </tr>\n",
              "  </tbody>\n",
              "</table>\n",
              "</div>"
            ],
            "text/plain": [
              "         label                                               text\n",
              "3281328      1  Excellent home help for parents: Volume 1 of D...\n",
              "2662721      0  Stay far, far away.: I made it through about 6...\n",
              "1600544      0  Lost Woods: Lost WoodsI didn't really understa...\n",
              "815246       0  Renaissance -12, Women's brown suead shoes: Re...\n",
              "1254178      1  Best Novel I've Read This Year: Intrigued by t..."
            ]
          },
          "execution_count": 11,
          "metadata": {},
          "output_type": "execute_result"
        }
      ],
      "source": [
        "sample_train.head()"
      ]
    },
    {
      "cell_type": "code",
      "execution_count": null,
      "id": "409d0959",
      "metadata": {
        "id": "409d0959"
      },
      "outputs": [],
      "source": [
        "text = sample_train['text'].values\n",
        "label = sample_train['label'].values"
      ]
    },
    {
      "cell_type": "code",
      "execution_count": null,
      "id": "50b34fc4",
      "metadata": {
        "id": "50b34fc4"
      },
      "outputs": [],
      "source": [
        "text_test = sample_test['text'].values\n",
        "label_test = sample_test['label'].values"
      ]
    },
    {
      "cell_type": "code",
      "execution_count": null,
      "id": "fce08642",
      "metadata": {
        "id": "fce08642"
      },
      "outputs": [],
      "source": [
        "from sklearn.model_selection import train_test_split\n",
        "\n",
        "X_train, X_val, y_train, y_val = train_test_split(text, label, test_size=0.2, random_state=42)\n"
      ]
    },
    {
      "cell_type": "code",
      "execution_count": null,
      "id": "f09f005d",
      "metadata": {
        "id": "f09f005d",
        "outputId": "cd36fb43-1706-433a-e317-f7c2b180611b"
      },
      "outputs": [
        {
          "data": {
            "text/plain": [
              "array([1, 1, 0, ..., 0, 1, 1])"
            ]
          },
          "execution_count": 21,
          "metadata": {},
          "output_type": "execute_result"
        }
      ],
      "source": []
    },
    {
      "cell_type": "code",
      "execution_count": null,
      "id": "6df9781c",
      "metadata": {
        "id": "6df9781c"
      },
      "outputs": [],
      "source": [
        "#training data\n",
        "tokenizer = Tokenizer(num_words=5000, oov_token=\"<OOV>\")\n",
        "tokenizer.fit_on_texts(X_train)\n"
      ]
    },
    {
      "cell_type": "code",
      "execution_count": null,
      "id": "e80d7617",
      "metadata": {
        "id": "e80d7617"
      },
      "outputs": [],
      "source": [
        "#testing data\n",
        "tokenizer = Tokenizer(num_words=5000, oov_token=\"<OOV>\")\n",
        "tokenizer.fit_on_texts(X_val)"
      ]
    },
    {
      "cell_type": "code",
      "execution_count": null,
      "id": "bfd2fc17",
      "metadata": {
        "id": "bfd2fc17"
      },
      "outputs": [],
      "source": [
        "#train data\n",
        "X_train_sequences = tokenizer.texts_to_sequences(X_train)\n",
        "X_train_padded = pad_sequences(X_train_sequences, maxlen=50, padding='post', truncating='post')"
      ]
    },
    {
      "cell_type": "code",
      "execution_count": null,
      "id": "c6b8f854",
      "metadata": {
        "id": "c6b8f854"
      },
      "outputs": [],
      "source": [
        "#test data\n",
        "X_test_sequences = tokenizer.texts_to_sequences(X_val)\n",
        "X_test_padded = pad_sequences(X_test_sequences, maxlen=50, padding='post', truncating='post')"
      ]
    },
    {
      "cell_type": "code",
      "execution_count": null,
      "id": "37ab9f3c",
      "metadata": {
        "id": "37ab9f3c"
      },
      "outputs": [],
      "source": [
        "from tensorflow.keras.models import Sequential\n",
        "from tensorflow.keras.layers import Embedding, LSTM, Dense, Dropout\n",
        "\n",
        "model = Sequential([\n",
        "    Embedding(input_dim=5000, output_dim=64, input_length=50),\n",
        "    LSTM(64),\n",
        "    Dropout(0.2),\n",
        "    Dense(1, activation='sigmoid')\n",
        "])\n",
        "\n",
        "model.compile(loss='binary_crossentropy', optimizer='adam', metrics=['accuracy'])\n",
        "\n"
      ]
    },
    {
      "cell_type": "code",
      "execution_count": null,
      "id": "77a7fcf8",
      "metadata": {
        "id": "77a7fcf8",
        "outputId": "baf43ff1-ced8-4c90-a9ec-d8cbd643e2d7"
      },
      "outputs": [
        {
          "name": "stdout",
          "output_type": "stream",
          "text": [
            "Epoch 1/10\n",
            "313/313 [==============================] - 18s 44ms/step - loss: 0.4858 - accuracy: 0.7579 - val_loss: 1.0421 - val_accuracy: 0.5559\n",
            "Epoch 2/10\n",
            "313/313 [==============================] - 13s 40ms/step - loss: 0.2832 - accuracy: 0.8923 - val_loss: 1.2580 - val_accuracy: 0.5411\n",
            "Epoch 3/10\n",
            "313/313 [==============================] - 12s 40ms/step - loss: 0.2187 - accuracy: 0.9184 - val_loss: 1.0782 - val_accuracy: 0.5364\n",
            "Epoch 4/10\n",
            "313/313 [==============================] - 12s 40ms/step - loss: 0.1645 - accuracy: 0.9403 - val_loss: 1.2429 - val_accuracy: 0.5497\n",
            "Epoch 5/10\n",
            "313/313 [==============================] - 12s 40ms/step - loss: 0.1218 - accuracy: 0.9580 - val_loss: 1.7287 - val_accuracy: 0.5450\n",
            "Epoch 6/10\n",
            "313/313 [==============================] - 12s 39ms/step - loss: 0.1047 - accuracy: 0.9646 - val_loss: 1.8973 - val_accuracy: 0.5508\n",
            "Epoch 7/10\n",
            "313/313 [==============================] - 13s 40ms/step - loss: 0.0965 - accuracy: 0.9684 - val_loss: 1.5139 - val_accuracy: 0.5483\n",
            "Epoch 8/10\n",
            "313/313 [==============================] - 12s 38ms/step - loss: 0.0673 - accuracy: 0.9790 - val_loss: 1.9670 - val_accuracy: 0.5469\n",
            "Epoch 9/10\n",
            "313/313 [==============================] - 13s 41ms/step - loss: 0.0686 - accuracy: 0.9800 - val_loss: 1.6502 - val_accuracy: 0.5461\n",
            "Epoch 10/10\n",
            "313/313 [==============================] - 13s 40ms/step - loss: 0.0514 - accuracy: 0.9857 - val_loss: 1.9885 - val_accuracy: 0.5520\n",
            "{'loss': [0.48583197593688965, 0.283186137676239, 0.21869252622127533, 0.16454149782657623, 0.12181127071380615, 0.1046956330537796, 0.09651665389537811, 0.0673002377152443, 0.06856474280357361, 0.051366228610277176], 'accuracy': [0.7578999996185303, 0.892300009727478, 0.91839998960495, 0.9402999877929688, 0.9580000042915344, 0.9646000266075134, 0.9684000015258789, 0.9789999723434448, 0.9800000190734863, 0.9857000112533569], 'val_loss': [1.0421421527862549, 1.2580006122589111, 1.078194499015808, 1.242932915687561, 1.7287214994430542, 1.8973290920257568, 1.5139237642288208, 1.9669933319091797, 1.650242805480957, 1.9884980916976929], 'val_accuracy': [0.555899977684021, 0.541100025177002, 0.5364000201225281, 0.5497000217437744, 0.5450000166893005, 0.5508000254631042, 0.54830002784729, 0.5468999743461609, 0.5461000204086304, 0.5519999861717224]}\n"
          ]
        }
      ],
      "source": [
        "# Train the model and see the loss and accuracy on each epoch\n",
        "history = model.fit(X_train_padded, y_train, validation_data=(X_test_padded, y_val), epochs=10, batch_size=32, verbose=1)\n",
        "\n",
        "# Print the history object containing the loss and accuracy on each epoch\n",
        "print(history.history)\n"
      ]
    },
    {
      "cell_type": "code",
      "execution_count": null,
      "id": "f97fb5a3",
      "metadata": {
        "id": "f97fb5a3",
        "outputId": "31a26769-78b9-409d-f1de-9bdc65d35849"
      },
      "outputs": [
        {
          "name": "stdout",
          "output_type": "stream",
          "text": [
            "313/313 [==============================] - 3s 10ms/step - loss: 1.9885 - accuracy: 0.5520\n",
            "Validation accuracy: 0.5519999861717224\n"
          ]
        }
      ],
      "source": [
        "# Evaluate the model on the validation dataset\n",
        "val_loss, val_acc = model.evaluate(X_test_padded, label_test)\n",
        "\n",
        "# Print the validation accuracy\n",
        "print('Validation accuracy:', val_acc)\n"
      ]
    },
    {
      "cell_type": "code",
      "execution_count": null,
      "id": "12d8333a",
      "metadata": {
        "id": "12d8333a",
        "outputId": "900eb90d-a701-4467-b438-786689b16c0d"
      },
      "outputs": [
        {
          "name": "stdout",
          "output_type": "stream",
          "text": [
            "Epoch 1/50\n",
            "3125/3125 [==============================] - 109s 34ms/step - loss: 0.3357 - accuracy: 0.8563 - val_loss: 0.2736 - val_accuracy: 0.8875\n",
            "Epoch 2/50\n",
            "3125/3125 [==============================] - 105s 34ms/step - loss: 0.2481 - accuracy: 0.8987 - val_loss: 0.2622 - val_accuracy: 0.8928\n",
            "Epoch 3/50\n",
            "3125/3125 [==============================] - 106s 34ms/step - loss: 0.2133 - accuracy: 0.9150 - val_loss: 0.2580 - val_accuracy: 0.8942\n",
            "Epoch 4/50\n",
            "3125/3125 [==============================] - 105s 34ms/step - loss: 0.1839 - accuracy: 0.9281 - val_loss: 0.2624 - val_accuracy: 0.8930\n",
            "Epoch 5/50\n",
            "3125/3125 [==============================] - 105s 34ms/step - loss: 0.1587 - accuracy: 0.9392 - val_loss: 0.3076 - val_accuracy: 0.8912\n",
            "Epoch 6/50\n",
            "3125/3125 [==============================] - 105s 34ms/step - loss: 0.1359 - accuracy: 0.9490 - val_loss: 0.3075 - val_accuracy: 0.8878\n",
            "Epoch 7/50\n",
            "3125/3125 [==============================] - 104s 33ms/step - loss: 0.1150 - accuracy: 0.9580 - val_loss: 0.3378 - val_accuracy: 0.8849\n",
            "Epoch 8/50\n",
            "3125/3125 [==============================] - 104s 33ms/step - loss: 0.0986 - accuracy: 0.9652 - val_loss: 0.3665 - val_accuracy: 0.8863\n",
            "Epoch 9/50\n",
            "3125/3125 [==============================] - 106s 34ms/step - loss: 0.0845 - accuracy: 0.9701 - val_loss: 0.4027 - val_accuracy: 0.8817\n",
            "Epoch 10/50\n",
            "3125/3125 [==============================] - 106s 34ms/step - loss: 0.0699 - accuracy: 0.9764 - val_loss: 0.4467 - val_accuracy: 0.8770\n",
            "Epoch 11/50\n",
            "3125/3125 [==============================] - 105s 34ms/step - loss: 0.0623 - accuracy: 0.9798 - val_loss: 0.5002 - val_accuracy: 0.8777\n",
            "Epoch 12/50\n",
            "3125/3125 [==============================] - 106s 34ms/step - loss: 0.0525 - accuracy: 0.9833 - val_loss: 0.5280 - val_accuracy: 0.8767\n",
            "Epoch 13/50\n",
            "3125/3125 [==============================] - 107s 34ms/step - loss: 0.0446 - accuracy: 0.9861 - val_loss: 0.5381 - val_accuracy: 0.8756\n",
            "Epoch 14/50\n",
            "3125/3125 [==============================] - 106s 34ms/step - loss: 0.0385 - accuracy: 0.9882 - val_loss: 0.5999 - val_accuracy: 0.8787\n",
            "Epoch 15/50\n",
            "3125/3125 [==============================] - 105s 34ms/step - loss: 0.0344 - accuracy: 0.9893 - val_loss: 0.5964 - val_accuracy: 0.8757\n",
            "Epoch 16/50\n",
            "3125/3125 [==============================] - 104s 33ms/step - loss: 0.0297 - accuracy: 0.9913 - val_loss: 0.6384 - val_accuracy: 0.8738\n",
            "Epoch 17/50\n",
            "3125/3125 [==============================] - 105s 34ms/step - loss: 0.0279 - accuracy: 0.9917 - val_loss: 0.6503 - val_accuracy: 0.8743\n",
            "Epoch 18/50\n",
            "3125/3125 [==============================] - 108s 35ms/step - loss: 0.0228 - accuracy: 0.9932 - val_loss: 0.7163 - val_accuracy: 0.8808\n",
            "Epoch 19/50\n",
            "3125/3125 [==============================] - 105s 34ms/step - loss: 0.0213 - accuracy: 0.9937 - val_loss: 0.6825 - val_accuracy: 0.8745\n",
            "Epoch 20/50\n",
            "3125/3125 [==============================] - 105s 34ms/step - loss: 0.0176 - accuracy: 0.9947 - val_loss: 0.7346 - val_accuracy: 0.8751\n",
            "Epoch 21/50\n",
            "3125/3125 [==============================] - 106s 34ms/step - loss: 0.0165 - accuracy: 0.9951 - val_loss: 0.7204 - val_accuracy: 0.8751\n",
            "Epoch 22/50\n",
            "3125/3125 [==============================] - 105s 34ms/step - loss: 0.0158 - accuracy: 0.9953 - val_loss: 0.7591 - val_accuracy: 0.8706\n",
            "Epoch 23/50\n",
            "3125/3125 [==============================] - 104s 33ms/step - loss: 0.0144 - accuracy: 0.9957 - val_loss: 0.7313 - val_accuracy: 0.8735\n",
            "Epoch 24/50\n",
            "3125/3125 [==============================] - 105s 34ms/step - loss: 0.0119 - accuracy: 0.9965 - val_loss: 0.7988 - val_accuracy: 0.8741\n",
            "Epoch 25/50\n",
            "3125/3125 [==============================] - 103s 33ms/step - loss: 0.0113 - accuracy: 0.9968 - val_loss: 0.8447 - val_accuracy: 0.8748\n",
            "Epoch 26/50\n",
            "3125/3125 [==============================] - 105s 34ms/step - loss: 0.0110 - accuracy: 0.9967 - val_loss: 0.7618 - val_accuracy: 0.8742\n",
            "Epoch 27/50\n",
            "3125/3125 [==============================] - 105s 33ms/step - loss: 0.0104 - accuracy: 0.9972 - val_loss: 0.7870 - val_accuracy: 0.8734\n",
            "Epoch 28/50\n",
            "3125/3125 [==============================] - 105s 34ms/step - loss: 0.0120 - accuracy: 0.9966 - val_loss: 0.7939 - val_accuracy: 0.8736\n",
            "Epoch 29/50\n",
            "3125/3125 [==============================] - 104s 33ms/step - loss: 0.0091 - accuracy: 0.9973 - val_loss: 0.8244 - val_accuracy: 0.8763\n",
            "Epoch 30/50\n",
            "3125/3125 [==============================] - 105s 34ms/step - loss: 0.0104 - accuracy: 0.9969 - val_loss: 0.8025 - val_accuracy: 0.8708\n",
            "Epoch 31/50\n",
            "3125/3125 [==============================] - 105s 34ms/step - loss: 0.0080 - accuracy: 0.9975 - val_loss: 0.9234 - val_accuracy: 0.8780\n",
            "Epoch 32/50\n",
            "3125/3125 [==============================] - 105s 34ms/step - loss: 0.0085 - accuracy: 0.9976 - val_loss: 0.8939 - val_accuracy: 0.8773\n",
            "Epoch 33/50\n",
            "3125/3125 [==============================] - 107s 34ms/step - loss: 0.0086 - accuracy: 0.9975 - val_loss: 0.8120 - val_accuracy: 0.8715\n",
            "Epoch 34/50\n",
            "3125/3125 [==============================] - 108s 35ms/step - loss: 0.0090 - accuracy: 0.9973 - val_loss: 0.8170 - val_accuracy: 0.8746\n",
            "Epoch 35/50\n",
            "3125/3125 [==============================] - 107s 34ms/step - loss: 0.0064 - accuracy: 0.9983 - val_loss: 0.8527 - val_accuracy: 0.8725\n",
            "Epoch 36/50\n",
            "3125/3125 [==============================] - 108s 34ms/step - loss: 0.0067 - accuracy: 0.9981 - val_loss: 0.8608 - val_accuracy: 0.8797\n",
            "Epoch 37/50\n",
            "3125/3125 [==============================] - 107s 34ms/step - loss: 0.0074 - accuracy: 0.9980 - val_loss: 0.8730 - val_accuracy: 0.8746\n",
            "Epoch 38/50\n",
            "3125/3125 [==============================] - 105s 34ms/step - loss: 0.0064 - accuracy: 0.9981 - val_loss: 0.9018 - val_accuracy: 0.8719\n",
            "Epoch 39/50\n",
            "3125/3125 [==============================] - 105s 34ms/step - loss: 0.0065 - accuracy: 0.9983 - val_loss: 0.8010 - val_accuracy: 0.8721\n",
            "Epoch 40/50\n",
            "3125/3125 [==============================] - 107s 34ms/step - loss: 0.0066 - accuracy: 0.9979 - val_loss: 0.9053 - val_accuracy: 0.8754\n",
            "Epoch 41/50\n",
            "3125/3125 [==============================] - 105s 34ms/step - loss: 0.0066 - accuracy: 0.9981 - val_loss: 0.8397 - val_accuracy: 0.8742\n",
            "Epoch 42/50\n",
            "3125/3125 [==============================] - 106s 34ms/step - loss: 0.0056 - accuracy: 0.9985 - val_loss: 0.9109 - val_accuracy: 0.8779\n",
            "Epoch 43/50\n",
            "3125/3125 [==============================] - 106s 34ms/step - loss: 0.0063 - accuracy: 0.9982 - val_loss: 0.9311 - val_accuracy: 0.8771\n",
            "Epoch 44/50\n",
            "3125/3125 [==============================] - 107s 34ms/step - loss: 0.0057 - accuracy: 0.9984 - val_loss: 0.8646 - val_accuracy: 0.8749\n",
            "Epoch 45/50\n",
            "3125/3125 [==============================] - 107s 34ms/step - loss: 0.0052 - accuracy: 0.9985 - val_loss: 0.9127 - val_accuracy: 0.8753\n",
            "Epoch 46/50\n",
            "3125/3125 [==============================] - 104s 33ms/step - loss: 0.0049 - accuracy: 0.9986 - val_loss: 0.9600 - val_accuracy: 0.8773\n",
            "Epoch 47/50\n",
            "3125/3125 [==============================] - 106s 34ms/step - loss: 0.0061 - accuracy: 0.9982 - val_loss: 0.8847 - val_accuracy: 0.8757\n",
            "Epoch 48/50\n",
            "3125/3125 [==============================] - 105s 33ms/step - loss: 0.0056 - accuracy: 0.9984 - val_loss: 0.8708 - val_accuracy: 0.8747\n",
            "Epoch 49/50\n",
            "3125/3125 [==============================] - 105s 34ms/step - loss: 0.0050 - accuracy: 0.9987 - val_loss: 0.9061 - val_accuracy: 0.8779\n",
            "Epoch 50/50\n",
            "3125/3125 [==============================] - 105s 34ms/step - loss: 0.0053 - accuracy: 0.9984 - val_loss: 0.8761 - val_accuracy: 0.8758\n",
            "{'loss': [0.3356947600841522, 0.24807870388031006, 0.21329562366008759, 0.18391068279743195, 0.1586972028017044, 0.13590295612812042, 0.11496808379888535, 0.09859254956245422, 0.08449682593345642, 0.06990577280521393, 0.06231243163347244, 0.05252308025956154, 0.04460059478878975, 0.038529735058546066, 0.034351035952568054, 0.029740411788225174, 0.027856096625328064, 0.022783849388360977, 0.021305635571479797, 0.017633650451898575, 0.016519706696271896, 0.01575195975601673, 0.014444640837609768, 0.011893967166543007, 0.011313892900943756, 0.01097511500120163, 0.010433319956064224, 0.011982422322034836, 0.009066469967365265, 0.01041445229202509, 0.007956487126648426, 0.008520745672285557, 0.008649253286421299, 0.00897719245404005, 0.0064129033125936985, 0.006664183456450701, 0.007425568997859955, 0.00637871352955699, 0.006454043556004763, 0.006621434818953276, 0.006608210038393736, 0.005601281765848398, 0.006314500700682402, 0.005743028130382299, 0.00519972899928689, 0.004912057891488075, 0.006063743494451046, 0.005553615745157003, 0.005000948440283537, 0.00528674153611064], 'accuracy': [0.8563200235366821, 0.8987100124359131, 0.9150000214576721, 0.9280800223350525, 0.9392099976539612, 0.9489799737930298, 0.9579899907112122, 0.9652199745178223, 0.9701399803161621, 0.97639000415802, 0.9798399806022644, 0.9832599759101868, 0.9860900044441223, 0.9881700277328491, 0.9892699718475342, 0.9913100004196167, 0.9916800260543823, 0.9932000041007996, 0.9937199950218201, 0.9946699738502502, 0.9951300024986267, 0.9952899813652039, 0.9957399964332581, 0.9964799880981445, 0.9968100190162659, 0.996749997138977, 0.9971500039100647, 0.9966199994087219, 0.9973099827766418, 0.996940016746521, 0.9975299835205078, 0.9976300001144409, 0.9975299835205078, 0.9972900152206421, 0.9983299970626831, 0.9980700016021729, 0.997979998588562, 0.9981200098991394, 0.9983299970626831, 0.9979299902915955, 0.9980999827384949, 0.9984599947929382, 0.9982399940490723, 0.9984300136566162, 0.998520016670227, 0.9986000061035156, 0.9982100129127502, 0.9983900189399719, 0.9986699819564819, 0.9984300136566162], 'val_loss': [0.27357879281044006, 0.26223093271255493, 0.25803616642951965, 0.2624257504940033, 0.30759793519973755, 0.30747145414352417, 0.3377988636493683, 0.3664674460887909, 0.4027409255504608, 0.44666749238967896, 0.5002340078353882, 0.527994692325592, 0.5381044745445251, 0.5999210476875305, 0.596386194229126, 0.6384406685829163, 0.6502838134765625, 0.7162746787071228, 0.6824579834938049, 0.7346001267433167, 0.7204227447509766, 0.7591076493263245, 0.7312525510787964, 0.7988485097885132, 0.8447352051734924, 0.7618298530578613, 0.7870236039161682, 0.7939187288284302, 0.8243632912635803, 0.8025372624397278, 0.9234099388122559, 0.8938601016998291, 0.8119859099388123, 0.8169576525688171, 0.8527448177337646, 0.8608168959617615, 0.8730385303497314, 0.9018258452415466, 0.8009521961212158, 0.9053272604942322, 0.839685320854187, 0.9108607769012451, 0.9311478734016418, 0.8645750880241394, 0.9127466678619385, 0.9599811434745789, 0.8846805691719055, 0.8708125948905945, 0.9061461091041565, 0.8760889768600464], 'val_accuracy': [0.8874800205230713, 0.8927599787712097, 0.8941699862480164, 0.8930400013923645, 0.8911899924278259, 0.8877900242805481, 0.8849400281906128, 0.8862599730491638, 0.8816800117492676, 0.877020001411438, 0.8776599764823914, 0.8767099976539612, 0.8756200075149536, 0.8786600232124329, 0.8756700158119202, 0.8738499879837036, 0.8742799758911133, 0.8807500004768372, 0.874459981918335, 0.8750600218772888, 0.8751000165939331, 0.8705999851226807, 0.8734899759292603, 0.8741099834442139, 0.8748499751091003, 0.8741700053215027, 0.873449981212616, 0.8735899925231934, 0.876259982585907, 0.8707799911499023, 0.8779600262641907, 0.8773099780082703, 0.8715199828147888, 0.8745700120925903, 0.8725000023841858, 0.8797199726104736, 0.8746299743652344, 0.8719000220298767, 0.8720600008964539, 0.8753899931907654, 0.874239981174469, 0.8778700232505798, 0.8770999908447266, 0.8748599886894226, 0.8752899765968323, 0.8772900104522705, 0.8757200241088867, 0.8747100234031677, 0.8779299855232239, 0.875819981098175]}\n"
          ]
        }
      ],
      "source": [
        "# Train the model and see the loss and accuracy on each epoch\n",
        "history = model.fit(X_train_padded, label, validation_data=(X_test_padded, label_test), epochs=50, batch_size=32, verbose=1)\n",
        "\n",
        "# Print the history object containing the loss and accuracy on each epoch\n",
        "print(history.history)"
      ]
    },
    {
      "cell_type": "code",
      "execution_count": null,
      "id": "16c3bc87",
      "metadata": {
        "id": "16c3bc87",
        "outputId": "9baadbc5-fc89-48ac-acd9-a990083557c1"
      },
      "outputs": [
        {
          "name": "stdout",
          "output_type": "stream",
          "text": [
            "3125/3125 [==============================] - 31s 10ms/step - loss: 0.8761 - accuracy: 0.8758\n",
            "Validation accuracy: 0.875819981098175\n"
          ]
        }
      ],
      "source": [
        "# Evaluate the model on the validation dataset\n",
        "val_loss, val_acc = model.evaluate(X_test_padded, label_test)\n",
        "\n",
        "# Print the validation accuracy\n",
        "print('Validation accuracy:', val_acc)"
      ]
    },
    {
      "cell_type": "code",
      "execution_count": null,
      "id": "aded9c53",
      "metadata": {
        "id": "aded9c53",
        "outputId": "8145a583-b6be-4d3e-d805-980793925479"
      },
      "outputs": [
        {
          "name": "stdout",
          "output_type": "stream",
          "text": [
            "Epoch 1/25\n",
            "25000/25000 [==============================] - 679s 27ms/step - loss: 0.2427 - accuracy: 0.9003 - val_loss: 0.2085 - val_accuracy: 0.9161\n",
            "Epoch 2/25\n",
            "25000/25000 [==============================] - 666s 27ms/step - loss: 0.1969 - accuracy: 0.9220 - val_loss: 0.1946 - val_accuracy: 0.9220\n",
            "Epoch 3/25\n",
            "25000/25000 [==============================] - 668s 27ms/step - loss: 0.1797 - accuracy: 0.9296 - val_loss: 0.1919 - val_accuracy: 0.9242\n",
            "Epoch 4/25\n",
            "25000/25000 [==============================] - 671s 27ms/step - loss: 0.1664 - accuracy: 0.9356 - val_loss: 0.1925 - val_accuracy: 0.9244\n",
            "Epoch 5/25\n",
            "25000/25000 [==============================] - 669s 27ms/step - loss: 0.1547 - accuracy: 0.9404 - val_loss: 0.1959 - val_accuracy: 0.9239\n",
            "Epoch 6/25\n",
            "25000/25000 [==============================] - 669s 27ms/step - loss: 0.1445 - accuracy: 0.9452 - val_loss: 0.2022 - val_accuracy: 0.9243\n",
            "Epoch 7/25\n",
            "25000/25000 [==============================] - 675s 27ms/step - loss: 0.1351 - accuracy: 0.9490 - val_loss: 0.2080 - val_accuracy: 0.9234\n",
            "Epoch 8/25\n",
            "25000/25000 [==============================] - 675s 27ms/step - loss: 0.1267 - accuracy: 0.9527 - val_loss: 0.2137 - val_accuracy: 0.9229\n",
            "Epoch 9/25\n",
            "25000/25000 [==============================] - 672s 27ms/step - loss: 0.1193 - accuracy: 0.9557 - val_loss: 0.2196 - val_accuracy: 0.9215\n",
            "Epoch 10/25\n",
            "25000/25000 [==============================] - 672s 27ms/step - loss: 0.1128 - accuracy: 0.9587 - val_loss: 0.2246 - val_accuracy: 0.9197\n",
            "Epoch 11/25\n",
            "25000/25000 [==============================] - 670s 27ms/step - loss: 0.1073 - accuracy: 0.9607 - val_loss: 0.2351 - val_accuracy: 0.9183\n",
            "Epoch 12/25\n",
            "25000/25000 [==============================] - 672s 27ms/step - loss: 0.1032 - accuracy: 0.9624 - val_loss: 0.2439 - val_accuracy: 0.9193\n",
            "Epoch 13/25\n",
            "25000/25000 [==============================] - 667s 27ms/step - loss: 0.0999 - accuracy: 0.9640 - val_loss: 0.2463 - val_accuracy: 0.9186\n",
            "Epoch 14/25\n",
            "25000/25000 [==============================] - 674s 27ms/step - loss: 0.0969 - accuracy: 0.9651 - val_loss: 0.2512 - val_accuracy: 0.9174\n",
            "Epoch 15/25\n",
            "25000/25000 [==============================] - 670s 27ms/step - loss: 0.0940 - accuracy: 0.9663 - val_loss: 0.2591 - val_accuracy: 0.9170\n",
            "Epoch 16/25\n",
            "25000/25000 [==============================] - 674s 27ms/step - loss: 0.0922 - accuracy: 0.9670 - val_loss: 0.2600 - val_accuracy: 0.9163\n",
            "Epoch 17/25\n",
            "25000/25000 [==============================] - 672s 27ms/step - loss: 0.0905 - accuracy: 0.9676 - val_loss: 0.2627 - val_accuracy: 0.9168\n",
            "Epoch 18/25\n",
            "25000/25000 [==============================] - 666s 27ms/step - loss: 0.0895 - accuracy: 0.9681 - val_loss: 0.2679 - val_accuracy: 0.9157\n",
            "Epoch 19/25\n",
            "25000/25000 [==============================] - 649s 26ms/step - loss: 0.0876 - accuracy: 0.9687 - val_loss: 0.2662 - val_accuracy: 0.9156\n",
            "Epoch 20/25\n",
            "25000/25000 [==============================] - 650s 26ms/step - loss: 0.0871 - accuracy: 0.9689 - val_loss: 0.2624 - val_accuracy: 0.9155\n",
            "Epoch 21/25\n",
            "25000/25000 [==============================] - 649s 26ms/step - loss: 0.0861 - accuracy: 0.9692 - val_loss: 0.2695 - val_accuracy: 0.9152\n",
            "Epoch 22/25\n",
            "25000/25000 [==============================] - 652s 26ms/step - loss: 0.0851 - accuracy: 0.9698 - val_loss: 0.2769 - val_accuracy: 0.9141\n",
            "Epoch 23/25\n",
            "25000/25000 [==============================] - 649s 26ms/step - loss: 0.0844 - accuracy: 0.9699 - val_loss: 0.2691 - val_accuracy: 0.9145\n",
            "Epoch 24/25\n",
            "25000/25000 [==============================] - 650s 26ms/step - loss: 0.0837 - accuracy: 0.9705 - val_loss: 0.2737 - val_accuracy: 0.9148\n",
            "Epoch 25/25\n",
            "25000/25000 [==============================] - 652s 26ms/step - loss: 0.0834 - accuracy: 0.9705 - val_loss: 0.2725 - val_accuracy: 0.9148\n",
            "{'loss': [0.24272428452968597, 0.19694048166275024, 0.17969191074371338, 0.16638286411762238, 0.15472549200057983, 0.14448101818561554, 0.1351054161787033, 0.12671086192131042, 0.11931715905666351, 0.1128198653459549, 0.10732074826955795, 0.10322526097297668, 0.09986282140016556, 0.09685200452804565, 0.09403862059116364, 0.09221607446670532, 0.09050525724887848, 0.08946368098258972, 0.08762133866548538, 0.087099090218544, 0.08614402264356613, 0.08513926714658737, 0.08438996225595474, 0.08368153125047684, 0.08342386782169342], 'accuracy': [0.9003212451934814, 0.9219599962234497, 0.9295862317085266, 0.9355825185775757, 0.940443754196167, 0.9451525211334229, 0.949016273021698, 0.9527262449264526, 0.9556587338447571, 0.9586862325668335, 0.9606900215148926, 0.9623987674713135, 0.9639649987220764, 0.9651374816894531, 0.9663437604904175, 0.9669862389564514, 0.9675537347793579, 0.9680575132369995, 0.9686924815177917, 0.968853771686554, 0.9692487716674805, 0.9698349833488464, 0.9698512554168701, 0.9704574942588806, 0.9704650044441223], 'val_loss': [0.20850512385368347, 0.19460228085517883, 0.1919194906949997, 0.1924971491098404, 0.19587355852127075, 0.2022373229265213, 0.20801259577274323, 0.2136998474597931, 0.21962380409240723, 0.22457484900951385, 0.23509547114372253, 0.24390976130962372, 0.24626819789409637, 0.25122031569480896, 0.25909435749053955, 0.26000845432281494, 0.2626582682132721, 0.2679123878479004, 0.2661844491958618, 0.26236486434936523, 0.2694787383079529, 0.27687668800354004, 0.2690648138523102, 0.2736588418483734, 0.2725379168987274], 'val_accuracy': [0.916100025177002, 0.9219899773597717, 0.9241549968719482, 0.9243850111961365, 0.9238749742507935, 0.92426997423172, 0.9234300255775452, 0.922855019569397, 0.921500027179718, 0.9196799993515015, 0.9182599782943726, 0.9193099737167358, 0.9186149835586548, 0.9174299836158752, 0.9169750213623047, 0.9162899851799011, 0.9168350100517273, 0.9157050251960754, 0.9156299829483032, 0.9155499935150146, 0.9151999950408936, 0.9141200184822083, 0.9145349860191345, 0.914804995059967, 0.9147650003433228]}\n"
          ]
        }
      ],
      "source": [
        "# Train the model and see the loss and accuracy on each epoch\n",
        "history = model.fit(X_train_padded, y_train, validation_data=(X_test_padded, y_val), epochs=25, batch_size=32, verbose=1)\n",
        "\n",
        "# Print the history object containing the loss and accuracy on each epoch\n",
        "print(history.history)\n"
      ]
    },
    {
      "cell_type": "code",
      "execution_count": null,
      "id": "029197df",
      "metadata": {
        "id": "029197df",
        "outputId": "bc806658-1082-476f-ca23-a8d20b0cc643"
      },
      "outputs": [
        {
          "name": "stdout",
          "output_type": "stream",
          "text": [
            "6250/6250 [==============================] - 60s 10ms/step - loss: 0.2725 - accuracy: 0.9148\n",
            "Validation accuracy: 0.9147650003433228\n"
          ]
        }
      ],
      "source": [
        "val_loss, val_acc = model.evaluate(X_test_padded, y_val)\n",
        "\n",
        "# Print the validation accuracy\n",
        "print('Validation accuracy:', val_acc)"
      ]
    },
    {
      "cell_type": "code",
      "execution_count": null,
      "id": "f785979b",
      "metadata": {
        "id": "f785979b"
      },
      "outputs": [],
      "source": [
        "# assuming 'model' is your trained Keras model object\n",
        "model.save('sentiment_analysis_model.h5')\n"
      ]
    },
    {
      "cell_type": "code",
      "execution_count": null,
      "id": "96301d0e",
      "metadata": {
        "id": "96301d0e",
        "outputId": "afd40b23-ccd2-4b23-b366-47de427231f6"
      },
      "outputs": [
        {
          "name": "stdout",
          "output_type": "stream",
          "text": [
            "[[0.88651156]]\n",
            "Positive sentiment\n"
          ]
        }
      ],
      "source": [
        "# assuming 'model' is your trained Keras model object\n",
        "\n",
        "# Preprocess the input sentence\n",
        "input_sentence = \"Wow. This is great!\"\n",
        "# input_sentence = preprocess_text(input_sentence)\n",
        "\n",
        "# Convert the input sentence to a numerical format\n",
        "input_sequence = tokenizer.texts_to_sequences([input_sentence])\n",
        "input_sequence = pad_sequences(input_sequence, maxlen=50)\n",
        "\n",
        "# Make predictions using the model\n",
        "predicted_sentiment = model.predict(input_sequence)\n",
        "print(predicted_sentiment)\n",
        "\n",
        "# Print the predicted sentiment\n",
        "if predicted_sentiment > 0.5:\n",
        "    print(\"Positive sentiment\")\n",
        "else:\n",
        "    print(\"Negative sentiment\")\n"
      ]
    },
    {
      "cell_type": "code",
      "execution_count": null,
      "id": "7118f530",
      "metadata": {
        "id": "7118f530"
      },
      "outputs": [],
      "source": []
    }
  ],
  "metadata": {
    "kernelspec": {
      "display_name": "Python 3 (ipykernel)",
      "language": "python",
      "name": "python3"
    },
    "language_info": {
      "codemirror_mode": {
        "name": "ipython",
        "version": 3
      },
      "file_extension": ".py",
      "mimetype": "text/x-python",
      "name": "python",
      "nbconvert_exporter": "python",
      "pygments_lexer": "ipython3",
      "version": "3.9.8"
    },
    "colab": {
      "provenance": []
    },
    "accelerator": "TPU",
    "gpuClass": "standard"
  },
  "nbformat": 4,
  "nbformat_minor": 5
}